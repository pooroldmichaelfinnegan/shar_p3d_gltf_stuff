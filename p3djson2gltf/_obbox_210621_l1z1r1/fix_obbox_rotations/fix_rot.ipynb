{
 "cells": [
  {
   "cell_type": "code",
   "execution_count": 28,
   "metadata": {},
   "outputs": [],
   "source": [
    "from struct import pack, unpack\n",
    "import json\n",
    "\n",
    "from cl import OBBox\n",
    "\n",
    "# with open('./flandersHouse.json', 'rt') as p3djson:\n",
    "# with open('./common_gens16Shape.json', 'rt') as p3djson:\n",
    "with open('./l1z2_col_chunks.json', 'rt') as p3djson:\n",
    "    d = json.loads(p3djson.read())\n",
    "\n",
    "# loopdict(d)\n",
    "with open('./cube.default.gltf') as readgltf:\n",
    "    gltf = json.loads(readgltf.read())\n",
    "\n",
    "s = []\n",
    "\n"
   ]
  },
  {
   "cell_type": "code",
   "execution_count": 39,
   "metadata": {},
   "outputs": [],
   "source": [
    "def loopdict(dic):\n",
    "    for key, value in dic.items():\n",
    "        if key == 'OBBoxVolume':\n",
    "            print(value)\n",
    "            bi = OBBox(value)\n",
    "            # print(bi.gltf_node())\n",
    "            print(bi.rotation)\n",
    "        if type(value) is dict:\n",
    "            loopdict(value)\n",
    "        if type(value) is list:\n",
    "            looplist(value)\n",
    "\n",
    "\n",
    "def looplist(lst):\n",
    "    for index in lst:\n",
    "        if type(index) is dict:\n",
    "            loopdict(index)\n",
    "        if type(index) is list:\n",
    "            looplist(index)\n"
   ]
  },
  {
   "cell_type": "code",
   "execution_count": null,
   "metadata": {},
   "outputs": [],
   "source": []
  },
  {
   "cell_type": "code",
   "execution_count": 38,
   "metadata": {},
   "outputs": [
    {
     "ename": "AttributeError",
     "evalue": "'OBBox' object has no attribute 'rotation'",
     "output_type": "error",
     "traceback": [
      "\u001b[0;31m---------------------------------------------------------------------------\u001b[0m",
      "\u001b[0;31mAttributeError\u001b[0m                            Traceback (most recent call last)",
      "\u001b[1;32m/Users/g/_m/git/shar_p3d_gltf_stuff/p3djson2gltf/fix_obbox_rotations/fix_rot.ipynb Cell 4'\u001b[0m in \u001b[0;36m<cell line: 2>\u001b[0;34m()\u001b[0m\n\u001b[1;32m      <a href='vscode-notebook-cell:/Users/g/_m/git/shar_p3d_gltf_stuff/p3djson2gltf/fix_obbox_rotations/fix_rot.ipynb#ch0000003?line=0'>1</a>\u001b[0m \u001b[39m# gltf[\"nodes\"] += [loopdict(d)]\u001b[39;00m\n\u001b[0;32m----> <a href='vscode-notebook-cell:/Users/g/_m/git/shar_p3d_gltf_stuff/p3djson2gltf/fix_obbox_rotations/fix_rot.ipynb#ch0000003?line=1'>2</a>\u001b[0m \u001b[39mprint\u001b[39m(loopdict(d))\n\u001b[1;32m      <a href='vscode-notebook-cell:/Users/g/_m/git/shar_p3d_gltf_stuff/p3djson2gltf/fix_obbox_rotations/fix_rot.ipynb#ch0000003?line=2'>3</a>\u001b[0m \u001b[39mprint\u001b[39m(s)\n\u001b[1;32m      <a href='vscode-notebook-cell:/Users/g/_m/git/shar_p3d_gltf_stuff/p3djson2gltf/fix_obbox_rotations/fix_rot.ipynb#ch0000003?line=4'>5</a>\u001b[0m \u001b[39mwith\u001b[39;00m \u001b[39mopen\u001b[39m(\u001b[39m'\u001b[39m\u001b[39m./fix_rot0.txt\u001b[39m\u001b[39m'\u001b[39m, \u001b[39m'\u001b[39m\u001b[39mwt\u001b[39m\u001b[39m'\u001b[39m) \u001b[39mas\u001b[39;00m outgltf:\n\u001b[1;32m      <a href='vscode-notebook-cell:/Users/g/_m/git/shar_p3d_gltf_stuff/p3djson2gltf/fix_obbox_rotations/fix_rot.ipynb#ch0000003?line=5'>6</a>\u001b[0m     \u001b[39m# outgltf.write(gltf)\u001b[39;00m\n",
      "\u001b[1;32m/Users/g/_m/git/shar_p3d_gltf_stuff/p3djson2gltf/fix_obbox_rotations/fix_rot.ipynb Cell 2'\u001b[0m in \u001b[0;36mloopdict\u001b[0;34m(dic)\u001b[0m\n\u001b[1;32m      <a href='vscode-notebook-cell:/Users/g/_m/git/shar_p3d_gltf_stuff/p3djson2gltf/fix_obbox_rotations/fix_rot.ipynb#ch0000001?line=7'>8</a>\u001b[0m     loopdict(value)\n\u001b[1;32m      <a href='vscode-notebook-cell:/Users/g/_m/git/shar_p3d_gltf_stuff/p3djson2gltf/fix_obbox_rotations/fix_rot.ipynb#ch0000001?line=8'>9</a>\u001b[0m \u001b[39mif\u001b[39;00m \u001b[39mtype\u001b[39m(value) \u001b[39mis\u001b[39;00m \u001b[39mlist\u001b[39m:\n\u001b[0;32m---> <a href='vscode-notebook-cell:/Users/g/_m/git/shar_p3d_gltf_stuff/p3djson2gltf/fix_obbox_rotations/fix_rot.ipynb#ch0000001?line=9'>10</a>\u001b[0m     looplist(value)\n",
      "\u001b[1;32m/Users/g/_m/git/shar_p3d_gltf_stuff/p3djson2gltf/fix_obbox_rotations/fix_rot.ipynb Cell 2'\u001b[0m in \u001b[0;36mlooplist\u001b[0;34m(lst)\u001b[0m\n\u001b[1;32m     <a href='vscode-notebook-cell:/Users/g/_m/git/shar_p3d_gltf_stuff/p3djson2gltf/fix_obbox_rotations/fix_rot.ipynb#ch0000001?line=13'>14</a>\u001b[0m \u001b[39mfor\u001b[39;00m index \u001b[39min\u001b[39;00m lst:\n\u001b[1;32m     <a href='vscode-notebook-cell:/Users/g/_m/git/shar_p3d_gltf_stuff/p3djson2gltf/fix_obbox_rotations/fix_rot.ipynb#ch0000001?line=14'>15</a>\u001b[0m     \u001b[39mif\u001b[39;00m \u001b[39mtype\u001b[39m(index) \u001b[39mis\u001b[39;00m \u001b[39mdict\u001b[39m:\n\u001b[0;32m---> <a href='vscode-notebook-cell:/Users/g/_m/git/shar_p3d_gltf_stuff/p3djson2gltf/fix_obbox_rotations/fix_rot.ipynb#ch0000001?line=15'>16</a>\u001b[0m         loopdict(index)\n\u001b[1;32m     <a href='vscode-notebook-cell:/Users/g/_m/git/shar_p3d_gltf_stuff/p3djson2gltf/fix_obbox_rotations/fix_rot.ipynb#ch0000001?line=16'>17</a>\u001b[0m     \u001b[39mif\u001b[39;00m \u001b[39mtype\u001b[39m(index) \u001b[39mis\u001b[39;00m \u001b[39mlist\u001b[39m:\n\u001b[1;32m     <a href='vscode-notebook-cell:/Users/g/_m/git/shar_p3d_gltf_stuff/p3djson2gltf/fix_obbox_rotations/fix_rot.ipynb#ch0000001?line=17'>18</a>\u001b[0m         looplist(index)\n",
      "\u001b[1;32m/Users/g/_m/git/shar_p3d_gltf_stuff/p3djson2gltf/fix_obbox_rotations/fix_rot.ipynb Cell 2'\u001b[0m in \u001b[0;36mloopdict\u001b[0;34m(dic)\u001b[0m\n\u001b[1;32m      <a href='vscode-notebook-cell:/Users/g/_m/git/shar_p3d_gltf_stuff/p3djson2gltf/fix_obbox_rotations/fix_rot.ipynb#ch0000001?line=7'>8</a>\u001b[0m     loopdict(value)\n\u001b[1;32m      <a href='vscode-notebook-cell:/Users/g/_m/git/shar_p3d_gltf_stuff/p3djson2gltf/fix_obbox_rotations/fix_rot.ipynb#ch0000001?line=8'>9</a>\u001b[0m \u001b[39mif\u001b[39;00m \u001b[39mtype\u001b[39m(value) \u001b[39mis\u001b[39;00m \u001b[39mlist\u001b[39m:\n\u001b[0;32m---> <a href='vscode-notebook-cell:/Users/g/_m/git/shar_p3d_gltf_stuff/p3djson2gltf/fix_obbox_rotations/fix_rot.ipynb#ch0000001?line=9'>10</a>\u001b[0m     looplist(value)\n",
      "\u001b[1;32m/Users/g/_m/git/shar_p3d_gltf_stuff/p3djson2gltf/fix_obbox_rotations/fix_rot.ipynb Cell 2'\u001b[0m in \u001b[0;36mlooplist\u001b[0;34m(lst)\u001b[0m\n\u001b[1;32m     <a href='vscode-notebook-cell:/Users/g/_m/git/shar_p3d_gltf_stuff/p3djson2gltf/fix_obbox_rotations/fix_rot.ipynb#ch0000001?line=15'>16</a>\u001b[0m     loopdict(index)\n\u001b[1;32m     <a href='vscode-notebook-cell:/Users/g/_m/git/shar_p3d_gltf_stuff/p3djson2gltf/fix_obbox_rotations/fix_rot.ipynb#ch0000001?line=16'>17</a>\u001b[0m \u001b[39mif\u001b[39;00m \u001b[39mtype\u001b[39m(index) \u001b[39mis\u001b[39;00m \u001b[39mlist\u001b[39m:\n\u001b[0;32m---> <a href='vscode-notebook-cell:/Users/g/_m/git/shar_p3d_gltf_stuff/p3djson2gltf/fix_obbox_rotations/fix_rot.ipynb#ch0000001?line=17'>18</a>\u001b[0m     looplist(index)\n",
      "\u001b[1;32m/Users/g/_m/git/shar_p3d_gltf_stuff/p3djson2gltf/fix_obbox_rotations/fix_rot.ipynb Cell 2'\u001b[0m in \u001b[0;36mlooplist\u001b[0;34m(lst)\u001b[0m\n\u001b[1;32m     <a href='vscode-notebook-cell:/Users/g/_m/git/shar_p3d_gltf_stuff/p3djson2gltf/fix_obbox_rotations/fix_rot.ipynb#ch0000001?line=13'>14</a>\u001b[0m \u001b[39mfor\u001b[39;00m index \u001b[39min\u001b[39;00m lst:\n\u001b[1;32m     <a href='vscode-notebook-cell:/Users/g/_m/git/shar_p3d_gltf_stuff/p3djson2gltf/fix_obbox_rotations/fix_rot.ipynb#ch0000001?line=14'>15</a>\u001b[0m     \u001b[39mif\u001b[39;00m \u001b[39mtype\u001b[39m(index) \u001b[39mis\u001b[39;00m \u001b[39mdict\u001b[39m:\n\u001b[0;32m---> <a href='vscode-notebook-cell:/Users/g/_m/git/shar_p3d_gltf_stuff/p3djson2gltf/fix_obbox_rotations/fix_rot.ipynb#ch0000001?line=15'>16</a>\u001b[0m         loopdict(index)\n\u001b[1;32m     <a href='vscode-notebook-cell:/Users/g/_m/git/shar_p3d_gltf_stuff/p3djson2gltf/fix_obbox_rotations/fix_rot.ipynb#ch0000001?line=16'>17</a>\u001b[0m     \u001b[39mif\u001b[39;00m \u001b[39mtype\u001b[39m(index) \u001b[39mis\u001b[39;00m \u001b[39mlist\u001b[39m:\n\u001b[1;32m     <a href='vscode-notebook-cell:/Users/g/_m/git/shar_p3d_gltf_stuff/p3djson2gltf/fix_obbox_rotations/fix_rot.ipynb#ch0000001?line=17'>18</a>\u001b[0m         looplist(index)\n",
      "    \u001b[0;31m[... skipping similar frames: loopdict at line 10 (1 times)]\u001b[0m\n",
      "\u001b[1;32m/Users/g/_m/git/shar_p3d_gltf_stuff/p3djson2gltf/fix_obbox_rotations/fix_rot.ipynb Cell 2'\u001b[0m in \u001b[0;36mlooplist\u001b[0;34m(lst)\u001b[0m\n\u001b[1;32m     <a href='vscode-notebook-cell:/Users/g/_m/git/shar_p3d_gltf_stuff/p3djson2gltf/fix_obbox_rotations/fix_rot.ipynb#ch0000001?line=15'>16</a>\u001b[0m     loopdict(index)\n\u001b[1;32m     <a href='vscode-notebook-cell:/Users/g/_m/git/shar_p3d_gltf_stuff/p3djson2gltf/fix_obbox_rotations/fix_rot.ipynb#ch0000001?line=16'>17</a>\u001b[0m \u001b[39mif\u001b[39;00m \u001b[39mtype\u001b[39m(index) \u001b[39mis\u001b[39;00m \u001b[39mlist\u001b[39m:\n\u001b[0;32m---> <a href='vscode-notebook-cell:/Users/g/_m/git/shar_p3d_gltf_stuff/p3djson2gltf/fix_obbox_rotations/fix_rot.ipynb#ch0000001?line=17'>18</a>\u001b[0m     looplist(index)\n",
      "    \u001b[0;31m[... skipping similar frames: looplist at line 16 (2 times), loopdict at line 10 (1 times), looplist at line 18 (1 times)]\u001b[0m\n",
      "\u001b[1;32m/Users/g/_m/git/shar_p3d_gltf_stuff/p3djson2gltf/fix_obbox_rotations/fix_rot.ipynb Cell 2'\u001b[0m in \u001b[0;36mloopdict\u001b[0;34m(dic)\u001b[0m\n\u001b[1;32m      <a href='vscode-notebook-cell:/Users/g/_m/git/shar_p3d_gltf_stuff/p3djson2gltf/fix_obbox_rotations/fix_rot.ipynb#ch0000001?line=7'>8</a>\u001b[0m     loopdict(value)\n\u001b[1;32m      <a href='vscode-notebook-cell:/Users/g/_m/git/shar_p3d_gltf_stuff/p3djson2gltf/fix_obbox_rotations/fix_rot.ipynb#ch0000001?line=8'>9</a>\u001b[0m \u001b[39mif\u001b[39;00m \u001b[39mtype\u001b[39m(value) \u001b[39mis\u001b[39;00m \u001b[39mlist\u001b[39m:\n\u001b[0;32m---> <a href='vscode-notebook-cell:/Users/g/_m/git/shar_p3d_gltf_stuff/p3djson2gltf/fix_obbox_rotations/fix_rot.ipynb#ch0000001?line=9'>10</a>\u001b[0m     looplist(value)\n",
      "\u001b[1;32m/Users/g/_m/git/shar_p3d_gltf_stuff/p3djson2gltf/fix_obbox_rotations/fix_rot.ipynb Cell 2'\u001b[0m in \u001b[0;36mlooplist\u001b[0;34m(lst)\u001b[0m\n\u001b[1;32m     <a href='vscode-notebook-cell:/Users/g/_m/git/shar_p3d_gltf_stuff/p3djson2gltf/fix_obbox_rotations/fix_rot.ipynb#ch0000001?line=15'>16</a>\u001b[0m     loopdict(index)\n\u001b[1;32m     <a href='vscode-notebook-cell:/Users/g/_m/git/shar_p3d_gltf_stuff/p3djson2gltf/fix_obbox_rotations/fix_rot.ipynb#ch0000001?line=16'>17</a>\u001b[0m \u001b[39mif\u001b[39;00m \u001b[39mtype\u001b[39m(index) \u001b[39mis\u001b[39;00m \u001b[39mlist\u001b[39m:\n\u001b[0;32m---> <a href='vscode-notebook-cell:/Users/g/_m/git/shar_p3d_gltf_stuff/p3djson2gltf/fix_obbox_rotations/fix_rot.ipynb#ch0000001?line=17'>18</a>\u001b[0m     looplist(index)\n",
      "\u001b[1;32m/Users/g/_m/git/shar_p3d_gltf_stuff/p3djson2gltf/fix_obbox_rotations/fix_rot.ipynb Cell 2'\u001b[0m in \u001b[0;36mlooplist\u001b[0;34m(lst)\u001b[0m\n\u001b[1;32m     <a href='vscode-notebook-cell:/Users/g/_m/git/shar_p3d_gltf_stuff/p3djson2gltf/fix_obbox_rotations/fix_rot.ipynb#ch0000001?line=13'>14</a>\u001b[0m \u001b[39mfor\u001b[39;00m index \u001b[39min\u001b[39;00m lst:\n\u001b[1;32m     <a href='vscode-notebook-cell:/Users/g/_m/git/shar_p3d_gltf_stuff/p3djson2gltf/fix_obbox_rotations/fix_rot.ipynb#ch0000001?line=14'>15</a>\u001b[0m     \u001b[39mif\u001b[39;00m \u001b[39mtype\u001b[39m(index) \u001b[39mis\u001b[39;00m \u001b[39mdict\u001b[39m:\n\u001b[0;32m---> <a href='vscode-notebook-cell:/Users/g/_m/git/shar_p3d_gltf_stuff/p3djson2gltf/fix_obbox_rotations/fix_rot.ipynb#ch0000001?line=15'>16</a>\u001b[0m         loopdict(index)\n\u001b[1;32m     <a href='vscode-notebook-cell:/Users/g/_m/git/shar_p3d_gltf_stuff/p3djson2gltf/fix_obbox_rotations/fix_rot.ipynb#ch0000001?line=16'>17</a>\u001b[0m     \u001b[39mif\u001b[39;00m \u001b[39mtype\u001b[39m(index) \u001b[39mis\u001b[39;00m \u001b[39mlist\u001b[39m:\n\u001b[1;32m     <a href='vscode-notebook-cell:/Users/g/_m/git/shar_p3d_gltf_stuff/p3djson2gltf/fix_obbox_rotations/fix_rot.ipynb#ch0000001?line=17'>18</a>\u001b[0m         looplist(index)\n",
      "\u001b[1;32m/Users/g/_m/git/shar_p3d_gltf_stuff/p3djson2gltf/fix_obbox_rotations/fix_rot.ipynb Cell 2'\u001b[0m in \u001b[0;36mloopdict\u001b[0;34m(dic)\u001b[0m\n\u001b[1;32m      <a href='vscode-notebook-cell:/Users/g/_m/git/shar_p3d_gltf_stuff/p3djson2gltf/fix_obbox_rotations/fix_rot.ipynb#ch0000001?line=3'>4</a>\u001b[0m     bi \u001b[39m=\u001b[39m OBBox(value)\n\u001b[1;32m      <a href='vscode-notebook-cell:/Users/g/_m/git/shar_p3d_gltf_stuff/p3djson2gltf/fix_obbox_rotations/fix_rot.ipynb#ch0000001?line=4'>5</a>\u001b[0m     \u001b[39m# print(bi.gltf_node())\u001b[39;00m\n\u001b[0;32m----> <a href='vscode-notebook-cell:/Users/g/_m/git/shar_p3d_gltf_stuff/p3djson2gltf/fix_obbox_rotations/fix_rot.ipynb#ch0000001?line=5'>6</a>\u001b[0m     \u001b[39mprint\u001b[39m(bi\u001b[39m.\u001b[39mrotation)\n\u001b[1;32m      <a href='vscode-notebook-cell:/Users/g/_m/git/shar_p3d_gltf_stuff/p3djson2gltf/fix_obbox_rotations/fix_rot.ipynb#ch0000001?line=6'>7</a>\u001b[0m \u001b[39mif\u001b[39;00m \u001b[39mtype\u001b[39m(value) \u001b[39mis\u001b[39;00m \u001b[39mdict\u001b[39m:\n\u001b[1;32m      <a href='vscode-notebook-cell:/Users/g/_m/git/shar_p3d_gltf_stuff/p3djson2gltf/fix_obbox_rotations/fix_rot.ipynb#ch0000001?line=7'>8</a>\u001b[0m     loopdict(value)\n",
      "\u001b[0;31mAttributeError\u001b[0m: 'OBBox' object has no attribute 'rotation'"
     ]
    }
   ],
   "source": [
    "\n",
    "\n",
    "# gltf[\"nodes\"] += [loopdict(d)]\n",
    "print(loopdict(d))\n",
    "print(s)\n",
    "\n",
    "with open('./fix_rot0.txt', 'wt') as outgltf:\n",
    "    # outgltf.write(gltf)\n",
    "    json.dump(s, outgltf, indent=2)\n"
   ]
  }
 ],
 "metadata": {
  "kernelspec": {
   "display_name": "Python 3.11.0a7 64-bit ('3.11-dev')",
   "language": "python",
   "name": "python3"
  },
  "language_info": {
   "codemirror_mode": {
    "name": "ipython",
    "version": 3
   },
   "file_extension": ".py",
   "mimetype": "text/x-python",
   "name": "python",
   "nbconvert_exporter": "python",
   "pygments_lexer": "ipython3",
   "version": "3.11.0"
  },
  "orig_nbformat": 4,
  "vscode": {
   "interpreter": {
    "hash": "9f92276768505313c5c7bcdf71a4eb14828797f2d6db32eba3b40bf03a356d08"
   }
  }
 },
 "nbformat": 4,
 "nbformat_minor": 2
}
